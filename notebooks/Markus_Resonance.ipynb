{
 "cells": [
  {
   "cell_type": "code",
   "execution_count": 38,
   "metadata": {},
   "outputs": [],
   "source": [
    "%matplotlib inline\n",
    "import matplotlib\n",
    "import matplotlib.pyplot as plt\n",
    "import numpy as np\n",
    "from classy import Class\n",
    "from scipy.interpolate import interp1d"
   ]
  },
  {
   "cell_type": "code",
   "execution_count": 78,
   "metadata": {},
   "outputs": [],
   "source": [
    "cosmo = Class()\n",
    "\n",
    "cosmo.set({'gauge':'synchronous',\n",
    "                  'output_newtonian':'no',\n",
    "                  'output':'tCl, mPk,lCl',\n",
    "                  'omega_cdm':0.12038,\n",
    "                  #'k_output_values':k,\n",
    "                  #'z_reio':11.357,\n",
    "                  #'reionization_z_start_max':750,\n",
    "                  #'z_reiomod_start':300,\n",
    "                  'recfast_Nz0':100000,\n",
    "                  'recfast_z_initial':1e5,\n",
    "                  'recombination':'recfast',\n",
    "                  #'evolver':1,\n",
    "                  #'recfast_H_frac':3e-4,\n",
    "                  'reio_parametrization':'reio_none',\n",
    "                  'lensing':'yes',\n",
    "                  #'start_sources_at_tau_c_over_tau_h':2e-3,\n",
    "                  #'100*theta_s':1.042143,\n",
    "                  #'background_verbose':5,\n",
    "                  #'input_verbose':5,\n",
    "                  #'h':0.47556\n",
    "                  'tight_coupling_trigger_tau_c_over_tau_h':0.008,\n",
    "                  'tight_coupling_trigger_tau_c_over_tau_k':0.001,\n",
    "                  'tight_coupling_approximation':0,\n",
    "                  'a_bidm':0.01,\n",
    "                  'A_bidm':3e-5,\n",
    "                  'm_bidm':500,\n",
    "                  #'n_bidm':-4,\n",
    "                  'bidm_type':'resonance',\n",
    "                  'f_bidm':0.99,\n",
    "                  'epsilon_bidm':1e-11\n",
    "                 })\n",
    "cosmo.compute()\n"
   ]
  },
  {
   "cell_type": "code",
   "execution_count": 79,
   "metadata": {},
   "outputs": [],
   "source": [
    "cosmoref = Class()\n",
    "cosmoref.set({'gauge':'synchronous',\n",
    "                  'output_newtonian':'no',\n",
    "                  'output':'tCl, mPk,lCl',\n",
    "                  'omega_cdm':0.12038,\n",
    "                  #'k_output_values':k,\n",
    "                  #'z_reio':11.357,\n",
    "                  #'reionization_z_start_max':750,\n",
    "                  #'z_reiomod_start':300,\n",
    "                  'recfast_Nz0':100000,\n",
    "                  'recfast_z_initial':1e5,\n",
    "                  'recombination':'recfast',\n",
    "                  #'recfast_H_frac':3e-4,\n",
    "                  'reio_parametrization':'reio_none',\n",
    "                  'lensing':'yes',\n",
    "                  #'start_sources_at_tau_c_over_tau_h':2e-3,\n",
    "                  #'100*theta_s':1.042143,\n",
    "                  #'background_verbose':5,\n",
    "                  #'input_verbose':5,\n",
    "                  #'h':0.47556\n",
    "                  #'tight_coupling_trigger_tau_c_over_tau_h':0.008,\n",
    "                  #'tight_coupling_trigger_tau_c_over_tau_k':0.001,\n",
    "                  #'a_bidm':0.01,\n",
    "                  #'A_bidm':1e-3,\n",
    "                  #'m_bidm':1000,\n",
    "                  #'n_bidm':-4,\n",
    "                  #'bidm_type':'resonance',\n",
    "                  #'f_bidm':0.99,\n",
    "                  #'epsilon_bidm':3e-11\n",
    "                 })\n",
    "cosmoref.compute()"
   ]
  },
  {
   "cell_type": "code",
   "execution_count": 80,
   "metadata": {},
   "outputs": [],
   "source": [
    "Th = cosmo.get_thermodynamics()"
   ]
  },
  {
   "cell_type": "code",
   "execution_count": 83,
   "metadata": {},
   "outputs": [],
   "source": [
    "z = Th['z']\n",
    "H = np.array([cosmo.Hubble(zz) for zz in Th['z']])\n",
    "Rbidm = Th['Rbidm']"
   ]
  },
  {
   "cell_type": "code",
   "execution_count": 84,
   "metadata": {},
   "outputs": [
    {
     "data": {
      "text/plain": [
       "[<matplotlib.lines.Line2D at 0x7f60fb33e358>]"
      ]
     },
     "execution_count": 84,
     "metadata": {},
     "output_type": "execute_result"
    },
    {
     "data": {
      "image/png": "[encoded data removed]",
      "text/plain": [
       "<Figure size 432x288 with 1 Axes>"
      ]
     },
     "metadata": {},
     "output_type": "display_data"
    }
   ],
   "source": [
    "plt.loglog(z,(1+z)*Rbidm/H)"
   ]
  },
  {
   "cell_type": "code",
   "execution_count": 66,
   "metadata": {},
   "outputs": [
    {
     "name": "stdout",
     "output_type": "stream",
     "text": [
      "dict_keys(['z', 'conf. time [Mpc]', 'x_e', \"kappa' [Mpc^-1]\", 'exp(-kappa)', 'g [Mpc^-1]', 'Tb [K]', 'Tbidm [K]', 'Rbidm', 'sigma_b_dm', 'c_b^2', 'tau_d'])\n"
     ]
    }
   ],
   "source": [
    "print(Th.keys())"
   ]
  },
  {
   "cell_type": "code",
   "execution_count": 85,
   "metadata": {},
   "outputs": [
    {
     "data": {
      "text/plain": [
       "[<matplotlib.lines.Line2D at 0x7f60f945ae80>]"
      ]
     },
     "execution_count": 85,
     "metadata": {},
     "output_type": "execute_result"
    },
    {
     "data": {
      "image/png": "[encoded data removed]",
      "text/plain": [
       "<Figure size 432x288 with 1 Axes>"
      ]
     },
     "metadata": {},
     "output_type": "display_data"
    }
   ],
   "source": [
    "Tb = Th['Tb [K]']\n",
    "Tdm = Th['Tbidm [K]']\n",
    "plt.loglog(z,Tb)\n",
    "plt.loglog(z,Tdm)"
   ]
  },
  {
   "cell_type": "code",
   "execution_count": 86,
   "metadata": {},
   "outputs": [
    {
     "name": "stderr",
     "output_type": "stream",
     "text": [
      "/home/markus/anaconda3/lib/python3.6/site-packages/ipykernel_launcher.py:8: RuntimeWarning: invalid value encountered in true_divide\n",
      "  \n",
      "No handles with labels found to put in legend.\n"
     ]
    },
    {
     "data": {
      "text/plain": [
       "<matplotlib.legend.Legend at 0x7f60f91fcb38>"
      ]
     },
     "execution_count": 86,
     "metadata": {},
     "output_type": "execute_result"
    },
    {
     "data": {
      "image/png": "[encoded data removed]",
      "text/plain": [
       "<Figure size 720x360 with 1 Axes>"
      ]
     },
     "metadata": {},
     "output_type": "display_data"
    }
   ],
   "source": [
    "fig = plt.figure(1, figsize = (10,5))\n",
    "ax = fig.add_subplot(111)\n",
    "clref = cosmoref.lensed_cl(2500)\n",
    "TTref = clref['tt']\n",
    "cl = cosmo.lensed_cl(2500)\n",
    "l = cl['ell']\n",
    "TT = cl['tt']\n",
    "ax.plot(l,100*(TT-TTref)/TTref)\n",
    "ax.set_xlim(20,2.5e3)\n",
    "ax.set_xlabel('$l$',fontsize=16)\n",
    "ax.set_ylabel('Delta TT / TTref [%]',fontsize=16)\n",
    "ax.legend(fontsize=16)"
   ]
  },
  {
   "cell_type": "code",
   "execution_count": null,
   "metadata": {},
   "outputs": [],
   "source": []
  }
 ],
 "metadata": {
  "kernelspec": {
   "display_name": "Python 3",
   "language": "python",
   "name": "python3"
  },
  "language_info": {
   "codemirror_mode": {
    "name": "ipython",
    "version": 3
   },
   "file_extension": ".py",
   "mimetype": "text/x-python",
   "name": "python",
   "nbconvert_exporter": "python",
   "pygments_lexer": "ipython3",
   "version": "3.6.5"
  }
 },
 "nbformat": 4,
 "nbformat_minor": 2
}
