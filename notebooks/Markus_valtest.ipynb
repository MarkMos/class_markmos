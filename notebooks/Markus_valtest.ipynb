{
 "cells": [
  {
   "cell_type": "code",
   "execution_count": 1,
   "metadata": {},
   "outputs": [],
   "source": [
    "import numpy as np\n",
    "from classy import Class"
   ]
  },
  {
   "cell_type": "code",
   "execution_count": 2,
   "metadata": {},
   "outputs": [],
   "source": [
    "M = {0.1, 1, 100, 1000, 5000, 10000}\n",
    "A = {1e-42,5e-42,1e-41,5e-41,1e-40,5e-40,1e-39}\n",
    "a = {1e-6,1e-5,1e-4,1e-3,1e-2,1e-1,1}\n",
    "f = {0.01,0.1,0.5,0.99}"
   ]
  },
  {
   "cell_type": "code",
   "execution_count": 5,
   "metadata": {},
   "outputs": [],
   "source": [
    "cosmo = Class()"
   ]
  },
  {
   "cell_type": "code",
   "execution_count": null,
   "metadata": {},
   "outputs": [
    {
     "name": "stdout",
     "output_type": "stream",
     "text": [
      "Done: M=0.1A=5e-40a=0.1f=0.1\n",
      "Done: M=0.1A=5e-40a=0.1f=0.5\n",
      "Done: M=0.1A=5e-40a=0.1f=0.01\n",
      "Done: M=0.1A=5e-40a=0.1f=0.99\n",
      "Done: M=0.1A=5e-40a=1f=0.1\n",
      "Done: M=0.1A=5e-40a=1f=0.5\n",
      "Done: M=0.1A=5e-40a=1f=0.01\n",
      "Done: M=0.1A=5e-40a=1f=0.99\n",
      "Done: M=0.1A=5e-40a=1e-05f=0.1\n",
      "Done: M=0.1A=5e-40a=1e-05f=0.5\n",
      "Done: M=0.1A=5e-40a=1e-05f=0.01\n",
      "Done: M=0.1A=5e-40a=1e-05f=0.99\n",
      "Done: M=0.1A=5e-40a=0.01f=0.1\n",
      "Done: M=0.1A=5e-40a=0.01f=0.5\n",
      "Done: M=0.1A=5e-40a=0.01f=0.01\n",
      "Done: M=0.1A=5e-40a=0.01f=0.99\n",
      "Done: M=0.1A=5e-40a=0.0001f=0.1\n",
      "Done: M=0.1A=5e-40a=0.0001f=0.5\n",
      "Done: M=0.1A=5e-40a=0.0001f=0.01\n",
      "Done: M=0.1A=5e-40a=0.0001f=0.99\n",
      "Done: M=0.1A=5e-40a=1e-06f=0.1\n",
      "Done: M=0.1A=5e-40a=1e-06f=0.5\n",
      "Done: M=0.1A=5e-40a=1e-06f=0.01\n",
      "Done: M=0.1A=5e-40a=1e-06f=0.99\n",
      "Done: M=0.1A=5e-40a=0.001f=0.1\n",
      "Done: M=0.1A=5e-40a=0.001f=0.5\n",
      "Done: M=0.1A=5e-40a=0.001f=0.01\n",
      "Done: M=0.1A=5e-40a=0.001f=0.99\n",
      "Done: M=0.1A=1e-39a=0.1f=0.1\n",
      "Done: M=0.1A=1e-39a=0.1f=0.5\n",
      "Done: M=0.1A=1e-39a=0.1f=0.01\n",
      "Done: M=0.1A=1e-39a=0.1f=0.99\n",
      "Done: M=0.1A=1e-39a=1f=0.1\n",
      "Done: M=0.1A=1e-39a=1f=0.5\n",
      "Done: M=0.1A=1e-39a=1f=0.01\n",
      "Done: M=0.1A=1e-39a=1f=0.99\n",
      "Done: M=0.1A=1e-39a=1e-05f=0.1\n",
      "Done: M=0.1A=1e-39a=1e-05f=0.5\n",
      "Done: M=0.1A=1e-39a=1e-05f=0.01\n",
      "Done: M=0.1A=1e-39a=1e-05f=0.99\n",
      "Done: M=0.1A=1e-39a=0.01f=0.1\n",
      "Done: M=0.1A=1e-39a=0.01f=0.5\n",
      "Done: M=0.1A=1e-39a=0.01f=0.01\n",
      "Done: M=0.1A=1e-39a=0.01f=0.99\n",
      "Done: M=0.1A=1e-39a=0.0001f=0.1\n",
      "Done: M=0.1A=1e-39a=0.0001f=0.5\n",
      "Done: M=0.1A=1e-39a=0.0001f=0.01\n",
      "Done: M=0.1A=1e-39a=0.0001f=0.99\n",
      "Done: M=0.1A=1e-39a=1e-06f=0.1\n",
      "Done: M=0.1A=1e-39a=1e-06f=0.5\n",
      "Done: M=0.1A=1e-39a=1e-06f=0.01\n",
      "Done: M=0.1A=1e-39a=1e-06f=0.99\n",
      "Done: M=0.1A=1e-39a=0.001f=0.1\n",
      "Done: M=0.1A=1e-39a=0.001f=0.5\n",
      "Done: M=0.1A=1e-39a=0.001f=0.01\n",
      "Done: M=0.1A=1e-39a=0.001f=0.99\n",
      "Done: M=0.1A=1e-40a=0.1f=0.1\n",
      "Done: M=0.1A=1e-40a=0.1f=0.5\n",
      "Done: M=0.1A=1e-40a=0.1f=0.01\n",
      "Done: M=0.1A=1e-40a=0.1f=0.99\n",
      "Done: M=0.1A=1e-40a=1f=0.1\n",
      "Done: M=0.1A=1e-40a=1f=0.5\n",
      "Done: M=0.1A=1e-40a=1f=0.01\n",
      "Done: M=0.1A=1e-40a=1f=0.99\n",
      "Done: M=0.1A=1e-40a=1e-05f=0.1\n",
      "Done: M=0.1A=1e-40a=1e-05f=0.5\n",
      "Done: M=0.1A=1e-40a=1e-05f=0.01\n",
      "Done: M=0.1A=1e-40a=1e-05f=0.99\n",
      "Done: M=0.1A=1e-40a=0.01f=0.1\n",
      "Done: M=0.1A=1e-40a=0.01f=0.5\n",
      "Done: M=0.1A=1e-40a=0.01f=0.01\n",
      "Done: M=0.1A=1e-40a=0.01f=0.99\n",
      "Done: M=0.1A=1e-40a=0.0001f=0.1\n",
      "Done: M=0.1A=1e-40a=0.0001f=0.5\n",
      "Done: M=0.1A=1e-40a=0.0001f=0.01\n",
      "Done: M=0.1A=1e-40a=0.0001f=0.99\n",
      "Done: M=0.1A=1e-40a=1e-06f=0.1\n",
      "Done: M=0.1A=1e-40a=1e-06f=0.5\n",
      "Done: M=0.1A=1e-40a=1e-06f=0.01\n",
      "Done: M=0.1A=1e-40a=1e-06f=0.99\n",
      "Done: M=0.1A=1e-40a=0.001f=0.1\n",
      "Done: M=0.1A=1e-40a=0.001f=0.5\n",
      "Done: M=0.1A=1e-40a=0.001f=0.01\n"
     ]
    }
   ],
   "source": [
    "for m in M:\n",
    "    for As in A:\n",
    "        for aa in a:\n",
    "            for fs in f:\n",
    "                cosmo.set({'gauge':'synchronous',\n",
    "                           'output':'tCl, lCl, mPk, pCl',\n",
    "                           'omega_cdm':0.12038,\n",
    "                           'recombination':'recfast',\n",
    "                           'h':0.67556,\n",
    "                           'lensing':'yes',\n",
    "                           'f_bidm':fs,\n",
    "                           'm_bidm':m,\n",
    "                           'bidm_type':'powerlaw',\n",
    "                           'n_bidm':-4,\n",
    "                           'a_bidm':aa,\n",
    "                           'A_bidm':As\n",
    "                           })\n",
    "                cosmo.compute()\n",
    "                print('Done: M='+str(m)\n",
    "                      + 'A=' + str(As)\n",
    "                      + 'a=' + str(aa)\n",
    "                      + 'f=' + str(fs)\n",
    "                     )"
   ]
  },
  {
   "cell_type": "code",
   "execution_count": 5,
   "metadata": {},
   "outputs": [
    {
     "data": {
      "text/plain": [
       "7"
      ]
     },
     "execution_count": 5,
     "metadata": {},
     "output_type": "execute_result"
    }
   ],
   "source": [
    "len(a)"
   ]
  },
  {
   "cell_type": "code",
   "execution_count": null,
   "metadata": {},
   "outputs": [],
   "source": []
  }
 ],
 "metadata": {
  "kernelspec": {
   "display_name": "Python 3",
   "language": "python",
   "name": "python3"
  },
  "language_info": {
   "codemirror_mode": {
    "name": "ipython",
    "version": 3
   },
   "file_extension": ".py",
   "mimetype": "text/x-python",
   "name": "python",
   "nbconvert_exporter": "python",
   "pygments_lexer": "ipython3",
   "version": "3.6.5"
  }
 },
 "nbformat": 4,
 "nbformat_minor": 2
}
