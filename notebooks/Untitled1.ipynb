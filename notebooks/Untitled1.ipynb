{
 "cells": [
  {
   "cell_type": "code",
   "execution_count": 1,
   "metadata": {},
   "outputs": [],
   "source": [
    "%matplotlib inline\n",
    "import matplotlib\n",
    "import matplotlib.pyplot as plt\n",
    "import numpy as np\n",
    "from classy import Class\n",
    "from scipy.interpolate import interp1d\n",
    "plt.rc('text', usetex=True)\n",
    "plt.rc('font', family='serif')\n",
    "plt.rc('xtick', labelsize=16) \n",
    "plt.rc('ytick', labelsize=16) "
   ]
  },
  {
   "cell_type": "code",
   "execution_count": 2,
   "metadata": {},
   "outputs": [
    {
     "name": "stdout",
     "output_type": "stream",
     "text": [
      "['reio']\n",
      "['noreio']\n"
     ]
    }
   ],
   "source": [
    "models = ['reio','noreio']\n",
    "\n",
    "cosmo={}\n",
    "for M in models:\n",
    "    cosmo[M] = Class()\n",
    "    cosmo[M].set({'gauge':'newtonian',\n",
    "                  'output':'tCl, lCl',\n",
    "                  'omega_cdm':0.12038,\n",
    "                  #'z_reio':11.357,\n",
    "                  #'reionization_z_start_max':750,\n",
    "                  #'z_reiomod_start':300,\n",
    "                  #'recfast_Nz0':80000,\n",
    "                  #'recfast_z_initial':1e7,\n",
    "                  'recombination':'recfast',\n",
    "                  #'recfast_H_frac':3e-4,\n",
    "                  #'reio_parametrization':'reio_none',\n",
    "                  #'100*theta_s':1.042143,\n",
    "                  #'100*theta_s':1.02,\n",
    "                  'background_verbose':5,\n",
    "                  'input_verbose':5,\n",
    "                  'h':0.67556,\n",
    "                  'lensing':'yes',\n",
    "                  'a_bidm':5e-4,\n",
    "                   'f_bidm':0.99,\n",
    "                   'A_bidm':1.7e-41,\n",
    "                   'm_bidm':1,\n",
    "                   'n_bidm':-4,\n",
    "                   'bidm_type':'powerlaw'\n",
    "                 })\n",
    "    if M == 'noreio':\n",
    "        cosmo[M].set({'reio_parametrization':'reio_none'})\n",
    "    print([M])\n",
    "    cosmo[M].compute()\n"
   ]
  },
  {
   "cell_type": "code",
   "execution_count": 3,
   "metadata": {},
   "outputs": [
    {
     "data": {
      "image/png": "[encoded data removed]",
      "text/plain": [
       "<Figure size 360x216 with 1 Axes>"
      ]
     },
     "metadata": {},
     "output_type": "display_data"
    }
   ],
   "source": [
    "fig = plt.figure(1,figsize=(5,3))\n",
    "ax = fig.add_subplot(111)\n",
    "for M in models:\n",
    "    Th = cosmo[M].get_thermodynamics()\n",
    "    #print(Th.keys())\n",
    "    #H = np.array([cosmo[M].Hubble(zz) for zz in Th['z']])\n",
    "    ax.loglog(Th['z'],Th['Rbidm'],label=M)\n",
    "ax.legend(fontsize=16)\n",
    "ax.set_xlabel('$z$',fontsize=16)\n",
    "ax.set_ylabel('$R_\\chi$ [Mpc${}^{-1}$]',fontsize=16)\n",
    "\n",
    "fig.savefig('Plots/RbidmReioComp.pdf',bbox_inches='tight')"
   ]
  },
  {
   "cell_type": "code",
   "execution_count": 4,
   "metadata": {},
   "outputs": [
    {
     "data": {
      "image/png": "[encoded data removed]",
      "text/plain": [
       "<Figure size 360x216 with 1 Axes>"
      ]
     },
     "metadata": {},
     "output_type": "display_data"
    }
   ],
   "source": [
    "fig = plt.figure(1,figsize=(5,3))\n",
    "ax = fig.add_subplot(111)\n",
    "for M in models:\n",
    "    Th = cosmo[M].get_thermodynamics()\n",
    "    H = np.array([cosmo[M].Hubble(zz) for zz in Th['z']])\n",
    "    ax.loglog(Th['z'],Th['Rbidm']/H,label=M)\n",
    "ax.legend(fontsize=16)\n",
    "ax.set_xlabel('$z$',fontsize=16)\n",
    "ax.set_ylabel('$R_\\chi / H$',fontsize=16)\n",
    "\n",
    "fig.savefig('Plots/RoverHReioComp.pdf',bbox_inches='tight')"
   ]
  },
  {
   "cell_type": "code",
   "execution_count": null,
   "metadata": {},
   "outputs": [],
   "source": []
  }
 ],
 "metadata": {
  "kernelspec": {
   "display_name": "Python 3",
   "language": "python",
   "name": "python3"
  },
  "language_info": {
   "codemirror_mode": {
    "name": "ipython",
    "version": 3
   },
   "file_extension": ".py",
   "mimetype": "text/x-python",
   "name": "python",
   "nbconvert_exporter": "python",
   "pygments_lexer": "ipython3",
   "version": "3.6.5"
  }
 },
 "nbformat": 4,
 "nbformat_minor": 2
}
