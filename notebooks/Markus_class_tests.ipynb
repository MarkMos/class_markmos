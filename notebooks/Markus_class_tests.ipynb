{
 "cells": [
  {
   "cell_type": "code",
   "execution_count": 1,
   "metadata": {},
   "outputs": [],
   "source": [
    "%matplotlib inline\n",
    "import matplotlib\n",
    "import matplotlib.pyplot as plt\n",
    "import numpy as np\n",
    "from classy import Class\n",
    "from scipy.interpolate import interp1d"
   ]
  },
  {
   "cell_type": "code",
   "execution_count": 2,
   "metadata": {},
   "outputs": [],
   "source": [
    "cosmo = Class()\n",
    "cosmo.set({'gauge':'newtonian',\n",
    "           'output':'tCl, lCl',\n",
    "           'omega_cdm':0.12038,\n",
    "           #'z_reio':11.357,\n",
    "           #'reionization_z_start_max':750,\n",
    "           #'z_reiomod_start':300,\n",
    "           'recfast_Nz0':20000,\n",
    "           'recfast_z_initial':1e4,\n",
    "           'recombination':'recfast',\n",
    "           #'recfast_H_frac':3e-4,\n",
    "           #'reio_parametrization':'reio_none',\n",
    "           #'100*theta_s':1.042143,\n",
    "           #'100*theta_s':1.02,\n",
    "           'background_verbose':5,\n",
    "           'input_verbose':5,\n",
    "           'h':0.67556,\n",
    "           'lensing':'yes',\n",
    "           'f_bidm':0.99,\n",
    "           'm_bidm':1,\n",
    "           'bidm_type':'powerlaw',\n",
    "           'n_bidm':-4,\n",
    "           'a_bidm':5e-4,\n",
    "           'A_bidm':1.7e-41\n",
    "           })\n",
    "cosmo.compute()"
   ]
  },
  {
   "cell_type": "code",
   "execution_count": 5,
   "metadata": {},
   "outputs": [
    {
     "name": "stdout",
     "output_type": "stream",
     "text": [
      "['A_bidm', 'a_bidm', 'background_verbose', 'bidm_type', 'f_bidm', 'gauge', 'h', 'input_verbose', 'lensing', 'm_bidm', 'n_bidm', 'omega_cdm', 'output', 'recfast_Nz0', 'recfast_z_initial', 'recombination']\n"
     ]
    }
   ],
   "source": [
    "print(sorted(cosmo.pars))"
   ]
  },
  {
   "cell_type": "code",
   "execution_count": 14,
   "metadata": {},
   "outputs": [],
   "source": [
    "bg=cosmo.get_background()"
   ]
  },
  {
   "cell_type": "code",
   "execution_count": 15,
   "metadata": {},
   "outputs": [
    {
     "data": {
      "text/plain": [
       "dict_keys(['z', 'proper time [Gyr]', 'conf. time [Mpc]', 'H [1/Mpc]', 'comov. dist.', 'ang.diam.dist.', 'lum. dist.', 'comov.snd.hrz.', '(.)rho_g', '(.)rho_b', '(.)rho_cdm', '(.)rho_lambda', '(.)rho_ur', '(.)rho_bidm', '(.)rho_crit', 'gr.fac. D', 'gr.fac. f'])"
      ]
     },
     "execution_count": 15,
     "metadata": {},
     "output_type": "execute_result"
    }
   ],
   "source": [
    "bg.keys()"
   ]
  },
  {
   "cell_type": "code",
   "execution_count": null,
   "metadata": {},
   "outputs": [],
   "source": [
    "cosmo.get"
   ]
  }
 ],
 "metadata": {
  "kernelspec": {
   "display_name": "Python 3",
   "language": "python",
   "name": "python3"
  },
  "language_info": {
   "codemirror_mode": {
    "name": "ipython",
    "version": 3
   },
   "file_extension": ".py",
   "mimetype": "text/x-python",
   "name": "python",
   "nbconvert_exporter": "python",
   "pygments_lexer": "ipython3",
   "version": "3.6.5"
  }
 },
 "nbformat": 4,
 "nbformat_minor": 2
}
