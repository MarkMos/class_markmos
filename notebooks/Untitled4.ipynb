{
 "cells": [
  {
   "cell_type": "code",
   "execution_count": 1,
   "metadata": {},
   "outputs": [],
   "source": [
    "%matplotlib inline\n",
    "import matplotlib\n",
    "import matplotlib.pyplot as plt\n",
    "import numpy as np\n",
    "from classy import Class\n",
    "from scipy.interpolate import interp1d"
   ]
  },
  {
   "cell_type": "code",
   "execution_count": 3,
   "metadata": {},
   "outputs": [],
   "source": [
    "cosmo = Class()\n",
    "cosmo.set({'gauge':'synchronous',\n",
    "                  'output_newtonian':'no',\n",
    "                  'output':'tCl, mPk',\n",
    "                  'omega_cdm':0.12038,\n",
    "                  #'k_output_values':k,\n",
    "                  #'z_reio':11.357,\n",
    "                  #'reionization_z_start_max':750,\n",
    "                  #'z_reiomod_start':300,\n",
    "                  #'recfast_Nz0':80000,\n",
    "                  #'recfast_z_initial':1e7,\n",
    "                  'recombination':'recfast',\n",
    "                  #'recfast_H_frac':3e-4,\n",
    "                  'reio_parametrization':'reio_none',\n",
    "                  'start_sources_at_tau_c_over_tau_h':2e-3,\n",
    "                  #'100*theta_s':1.042143,\n",
    "                  #'background_verbose':5,\n",
    "                  #'input_verbose':5,\n",
    "                  #'h':0.47556\n",
    "                  'tight_coupling_trigger_tau_c_over_tau_h':0.008,\n",
    "                  'tight_coupling_trigger_tau_c_over_tau_k':0.001,\n",
    "                  'a_bidm':5e-4,\n",
    "                  'A_bidm':1.7e-41,\n",
    "                  'm_bidm':1,\n",
    "                  'n_bidm':-4,\n",
    "                  'bidm_type':'powerlaw',\n",
    "                  'f_bidm':0.5\n",
    "                 })\n",
    "cosmo.compute()"
   ]
  },
  {
   "cell_type": "code",
   "execution_count": 4,
   "metadata": {},
   "outputs": [],
   "source": [
    "bg = cosmo.get_background()"
   ]
  },
  {
   "cell_type": "code",
   "execution_count": 5,
   "metadata": {},
   "outputs": [
    {
     "name": "stdout",
     "output_type": "stream",
     "text": [
      "dict_keys(['z', 'proper time [Gyr]', 'conf. time [Mpc]', 'H [1/Mpc]', 'comov. dist.', 'ang.diam.dist.', 'lum. dist.', 'comov.snd.hrz.', '(.)rho_g', '(.)rho_b', '(.)rho_cdm', '(.)rho_lambda', '(.)rho_ur', '(.)rho_bidm', '(.)rho_crit', 'gr.fac. D', 'gr.fac. f'])\n"
     ]
    }
   ],
   "source": [
    "print(bg.keys())"
   ]
  },
  {
   "cell_type": "code",
   "execution_count": null,
   "metadata": {},
   "outputs": [],
   "source": []
  }
 ],
 "metadata": {
  "kernelspec": {
   "display_name": "Python 3",
   "language": "python",
   "name": "python3"
  },
  "language_info": {
   "codemirror_mode": {
    "name": "ipython",
    "version": 3
   },
   "file_extension": ".py",
   "mimetype": "text/x-python",
   "name": "python",
   "nbconvert_exporter": "python",
   "pygments_lexer": "ipython3",
   "version": "3.6.5"
  }
 },
 "nbformat": 4,
 "nbformat_minor": 2
}
