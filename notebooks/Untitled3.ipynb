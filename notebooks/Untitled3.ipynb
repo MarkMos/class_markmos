{
 "cells": [
  {
   "cell_type": "code",
   "execution_count": 1,
   "metadata": {},
   "outputs": [
    {
     "data": {
      "image/png": "[encoded data removed]",
      "text/plain": [
       "<Figure size 432x288 with 1 Axes>"
      ]
     },
     "metadata": {},
     "output_type": "display_data"
    }
   ],
   "source": [
    "%matplotlib inline\n",
    "import contextlib\n",
    "import numpy as np\n",
    "import scipy.interpolate\n",
    "import matplotlib.pyplot as plt\n",
    "\n",
    "from classy import Class\n",
    "\n",
    "\n",
    "# Generate k array\n",
    "k_min, k_max = 1e-3, 1e+0\n",
    "k_gridsize = 100\n",
    "@contextlib.contextmanager\n",
    "def disable_numpy_summarization():\n",
    "    threshold = np.get_printoptions()['threshold']\n",
    "    np.set_printoptions(threshold=np.inf)\n",
    "    try:\n",
    "        yield\n",
    "    finally:\n",
    "        np.set_printoptions(threshold=threshold)\n",
    "k = np.logspace(np.log10((1 - 1e-2)*k_min), np.log10((1 + 1e-2)*k_max), k_gridsize)\n",
    "with disable_numpy_summarization():\n",
    "    k_str = np.array2string(k, max_line_width=np.inf,\n",
    "        formatter={'float': lambda k: f'{k:.3e}'\n",
    "            .replace('+0', '+').replace('-0', '-').replace('e+0', '')},\n",
    "        separator=',',\n",
    "    ).strip('[]')\n",
    "k = np.fromstring(k_str, sep=',')\n",
    "\n",
    "# Run CLASS\n",
    "\n",
    "params = {\n",
    "    'output': 'dTk',\n",
    "    'k_output_values': k_str,\n",
    "    'omega_cdm':0.12038,\n",
    "    'f_bidm':0.99,\n",
    "    'm_bidm':1,\n",
    "    'bidm_type':'powerlaw',\n",
    "    'n_bidm':-4,\n",
    "    'a_bidm':5e-4,\n",
    "    'A_bidm':1.7e-41,\n",
    "}\n",
    "cosmo = Class()\n",
    "cosmo.set(params)\n",
    "cosmo.compute()\n",
    "# Get and cleanup background\n",
    "bg = cosmo.get_background()\n",
    "bg['a'] = 1/(1 + bg['z'])\n",
    "indices = np.unique(bg['a'], return_index=True)[1]\n",
    "for key, val in bg.items():\n",
    "    bg[key] = val[indices]\n",
    "# Get and cleanup perturbations\n",
    "pts = cosmo.get_perturbations()['scalar']\n",
    "for pt in pts:\n",
    "    indices = np.unique(pt['a'], return_index=True)[1]\n",
    "    for key, val in pt.items():\n",
    "        pt[key] = val[indices]\n",
    "\n",
    "# Primordial curvature perturbation\n",
    "derives_parameters = cosmo.get_current_derived_parameters(['A_s', 'n_s', 'alpha_s'])\n",
    "A_s = derives_parameters['A_s']\n",
    "n_s = derives_parameters['n_s']\n",
    "alpha_s = derives_parameters['alpha_s']\n",
    "k_pivot = 0.05  # 1/Mpc\n",
    "def zeta(k):\n",
    "    return (np.pi*np.sqrt(2*A_s)*k**(-3/2)*(k/k_pivot)**((n_s - 1)/2)\n",
    "        *np.exp(alpha_s/4*np.log(k/k_pivot)**2))\n",
    "\n",
    "# Get power spectrum\n",
    "def get_Pk(a, species='b+cdm'):\n",
    "    P = []\n",
    "    for i, pt in enumerate(pts):\n",
    "        a_pt = pt['a']\n",
    "        # Get rho at this a\n",
    "        rho = {}\n",
    "        for s in species.split('+'):\n",
    "            rho_interp = scipy.interpolate.interp1d(\n",
    "                np.log(bg['a']), np.log(bg[f'(.)rho_{s}']), kind='cubic')\n",
    "            rho[s] = lambda a, rho_interp=rho_interp: np.exp(rho_interp(np.log(a)))\n",
    "        rho_a_pt = {}\n",
    "        for s in species.split('+'):\n",
    "            rho_a_pt[s] = rho[s](a_pt)\n",
    "        # Compute weighted delta\n",
    "        deltarho_combined = 0\n",
    "        rho_combined = 0\n",
    "        for s in species.split('+'):\n",
    "            deltarho_combined += rho_a_pt[s]*pt[f'delta_{s}']\n",
    "            rho_combined += rho_a_pt[s]\n",
    "        delta_combined = deltarho_combined/rho_combined\n",
    "        # Compute power spectra\n",
    "        P_a_pt = (delta_combined*zeta(k[i]))**2\n",
    "        P_a = np.exp(scipy.interpolate.interp1d(np.log(a_pt), np.log(P_a_pt), kind='cubic')(np.log(a)))\n",
    "        P.append(P_a)\n",
    "    P = np.array(P)\n",
    "    return P\n",
    "\n",
    "\n",
    "#plt.loglog(k, get_Pk(0.5, 'cdm'))\n",
    "plt.semilogx(k, get_Pk(0.5, 'bidm')/get_Pk(0.5, 'cdm+bidm') - 1)\n",
    "\n",
    "\n",
    "plt.show()\n",
    "\n",
    "\n",
    "\n",
    "\n"
   ]
  },
  {
   "cell_type": "code",
   "execution_count": 2,
   "metadata": {},
   "outputs": [],
   "source": [
    "vals = {}"
   ]
  },
  {
   "cell_type": "code",
   "execution_count": 3,
   "metadata": {},
   "outputs": [],
   "source": [
    "vals['val1'] = {'k':1, 'b':2}"
   ]
  },
  {
   "cell_type": "code",
   "execution_count": 4,
   "metadata": {},
   "outputs": [],
   "source": [
    "vals['val2'] = {'k':5, 'b':7}"
   ]
  },
  {
   "cell_type": "code",
   "execution_count": 5,
   "metadata": {},
   "outputs": [
    {
     "data": {
      "text/plain": [
       "{'val1': {'k': 1, 'b': 2}, 'val2': {'k': 5, 'b': 7}}"
      ]
     },
     "execution_count": 5,
     "metadata": {},
     "output_type": "execute_result"
    }
   ],
   "source": [
    "vals"
   ]
  },
  {
   "cell_type": "code",
   "execution_count": 6,
   "metadata": {},
   "outputs": [
    {
     "ename": "TypeError",
     "evalue": "unsupported operand type(s) for +=: 'dict' and 'set'",
     "output_type": "error",
     "traceback": [
      "\u001b[0;31m---------------------------------------------------------------------------\u001b[0m",
      "\u001b[0;31mTypeError\u001b[0m                                 Traceback (most recent call last)",
      "\u001b[0;32m<ipython-input-6-06653c34a08b>\u001b[0m in \u001b[0;36m<module>\u001b[0;34m()\u001b[0m\n\u001b[0;32m----> 1\u001b[0;31m \u001b[0mvals\u001b[0m\u001b[0;34m[\u001b[0m\u001b[0;34m'val2'\u001b[0m\u001b[0;34m]\u001b[0m \u001b[0;34m+=\u001b[0m \u001b[0;34m{\u001b[0m\u001b[0;34m'c:8'\u001b[0m\u001b[0;34m}\u001b[0m\u001b[0;34m\u001b[0m\u001b[0m\n\u001b[0m",
      "\u001b[0;31mTypeError\u001b[0m: unsupported operand type(s) for +=: 'dict' and 'set'"
     ]
    }
   ],
   "source": []
  },
  {
   "cell_type": "code",
   "execution_count": null,
   "metadata": {},
   "outputs": [],
   "source": []
  }
 ],
 "metadata": {
  "kernelspec": {
   "display_name": "Python 3",
   "language": "python",
   "name": "python3"
  },
  "language_info": {
   "codemirror_mode": {
    "name": "ipython",
    "version": 3
   },
   "file_extension": ".py",
   "mimetype": "text/x-python",
   "name": "python",
   "nbconvert_exporter": "python",
   "pygments_lexer": "ipython3",
   "version": "3.6.5"
  }
 },
 "nbformat": 4,
 "nbformat_minor": 2
}
