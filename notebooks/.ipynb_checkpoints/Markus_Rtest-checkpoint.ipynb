{
 "cells": [
  {
   "cell_type": "code",
   "execution_count": 1,
   "metadata": {},
   "outputs": [],
   "source": [
    "%matplotlib inline\n",
    "import matplotlib\n",
    "import matplotlib.pyplot as plt\n",
    "import numpy as np\n",
    "from classy import Class\n",
    "from scipy.interpolate import interp1d"
   ]
  },
  {
   "cell_type": "code",
   "execution_count": 5,
   "metadata": {},
   "outputs": [],
   "source": [
    "models = ['n-4','n-3','n-2','n-1','n0','n1','n2']\n",
    "\n",
    "cosmo={}\n",
    "for M in models:\n",
    "    cosmo[M] = Class()\n",
    "    cosmo[M].set({#'gauge':'newtonian',\n",
    "                  'omega_cdm':0.12038,\n",
    "                  'z_reio':11.357,\n",
    "                  'reionization_z_start_max':750,\n",
    "                  'z_reiomod_start':500,\n",
    "                  'a_bidm':1e-6,\n",
    "                  'f_bidm':0.99,\n",
    "                  'A_bidm':1.9e-41,\n",
    "                  'm_bidm':1,\n",
    "                  'bidm_type':'powerlaw',\n",
    "                  'recfast_Nz0':80000,\n",
    "                  'recfast_z_initial':1e7\n",
    "                 })\n",
    "    if M == 'n-4':\n",
    "        cosmo[M].set({'n_bidm':-4})\n",
    "    if M == 'n-3':\n",
    "        cosmo[M].set({'n_bidm':-3})\n",
    "    if M == 'n-2':\n",
    "        cosmo[M].set({'n_bidm':-2})\n",
    "    if M == 'n-1':\n",
    "        cosmo[M].set({'n_bidm':-1})\n",
    "    if M == 'n0':\n",
    "        cosmo[M].set({'n_bidm':0})\n",
    "    if M == 'n1':\n",
    "        cosmo[M].set({'n_bidm':1})\n",
    "    if M == 'n2':\n",
    "        cosmo[M].set({'n_bidm':2})\n",
    "    cosmo[M].compute()\n"
   ]
  },
  {
   "cell_type": "code",
   "execution_count": 6,
   "metadata": {},
   "outputs": [
    {
     "name": "stderr",
     "output_type": "stream",
     "text": [
      "No handles with labels found to put in legend.\n",
      "No handles with labels found to put in legend.\n"
     ]
    },
    {
     "data": {
      "text/plain": [
       "<matplotlib.legend.Legend at 0x7f0284addfd0>"
      ]
     },
     "execution_count": 6,
     "metadata": {},
     "output_type": "execute_result"
    },
    {
     "data": {
      "image/png": "[encoded data removed]",
      "text/plain": [
       "<Figure size 720x720 with 1 Axes>"
      ]
     },
     "metadata": {},
     "output_type": "display_data"
    }
   ],
   "source": [
    "plt.figure(figsize = (10,10))\n",
    "for M in models:\n",
    "    Th = cosmo[M].get_thermodynamics()\n",
    "    #print(Th.keys())\n",
    "    if M != 'ref':\n",
    "        H = np.array([cosmo[M].Hubble(zz) for zz in Th['z']])\n",
    "        #plt.loglog(Th['z'],Th['Rbidm']*(1+Th['z'])/H,label='R_bidm '+M)\n",
    "        plt.semilogx(Th['z'],H,label='H '+M)\n",
    "plt.legend()\n",
    "plt.legend(bbox_to_anchor=(1.05, 1), loc=2, borderaxespad=0.)\n",
    "#plt.xlim(500,1e4)"
   ]
  },
  {
   "cell_type": "code",
   "execution_count": 2,
   "metadata": {},
   "outputs": [],
   "source": [
    "ns = np.array([-4,-3,-2,-1,0,1,2])"
   ]
  },
  {
   "cell_type": "code",
   "execution_count": 3,
   "metadata": {},
   "outputs": [
    {
     "data": {
      "text/plain": [
       "array([-4, -3, -2, -1,  0,  1,  2])"
      ]
     },
     "execution_count": 3,
     "metadata": {},
     "output_type": "execute_result"
    }
   ],
   "source": []
  },
  {
   "cell_type": "code",
   "execution_count": null,
   "metadata": {},
   "outputs": [],
   "source": []
  }
 ],
 "metadata": {
  "kernelspec": {
   "display_name": "Python 3",
   "language": "python",
   "name": "python3"
  },
  "language_info": {
   "codemirror_mode": {
    "name": "ipython",
    "version": 3
   },
   "file_extension": ".py",
   "mimetype": "text/x-python",
   "name": "python",
   "nbconvert_exporter": "python",
   "pygments_lexer": "ipython3",
   "version": "3.6.5"
  }
 },
 "nbformat": 4,
 "nbformat_minor": 2
}
