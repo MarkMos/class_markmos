{
 "cells": [
  {
   "cell_type": "code",
   "execution_count": 1,
   "metadata": {},
   "outputs": [],
   "source": [
    "%matplotlib inline\n",
    "import contextlib\n",
    "import numpy as np\n",
    "import scipy.interpolate\n",
    "import matplotlib.pyplot as plt\n",
    "\n",
    "from classy import Class"
   ]
  },
  {
   "cell_type": "code",
   "execution_count": 47,
   "metadata": {},
   "outputs": [],
   "source": [
    "# Generate k array\n",
    "k_min, k_max = 1e-3, 1e+0\n",
    "k_gridsize = 500\n",
    "@contextlib.contextmanager\n",
    "def disable_numpy_summarization():\n",
    "    threshold = np.get_printoptions()['threshold']\n",
    "    np.set_printoptions(threshold=np.inf)\n",
    "    try:\n",
    "        yield\n",
    "    finally:\n",
    "        np.set_printoptions(threshold=threshold)\n",
    "k = np.logspace(np.log10((1 - 1e-2)*k_min), np.log10((1 + 1e-2)*k_max), k_gridsize)\n",
    "with disable_numpy_summarization():\n",
    "    k_str = np.array2string(k, max_line_width=np.inf,\n",
    "        formatter={'float': lambda k: f'{k:.3e}'\n",
    "            .replace('+0', '+').replace('-0', '-').replace('e+0', '')},\n",
    "        separator=',',\n",
    "    ).strip('[]')\n",
    "k = np.fromstring(k_str, sep=',')\n"
   ]
  },
  {
   "cell_type": "code",
   "execution_count": 48,
   "metadata": {},
   "outputs": [],
   "source": [
    "# Run CLASS\n",
    "models = {}\n",
    "\n",
    "models['ref'] = {\n",
    "    'output': 'dTk',\n",
    "    'k_output_values': k_str,\n",
    "    'omega_cdm':0.12038,\n",
    "}\n",
    "\n",
    "models['n=-4'] = {\n",
    "    'output': 'dTk',\n",
    "    'k_output_values': k_str,\n",
    "    'omega_cdm':0.12038,\n",
    "    'f_bidm':0.99,\n",
    "    'm_bidm':1,\n",
    "    'bidm_type':'powerlaw',\n",
    "    'n_bidm':-4,\n",
    "    'a_bidm':5e-4,\n",
    "    'A_bidm':1.7e-41,\n",
    "    'tight_coupling_trigger_tau_c_over_tau_h':0.008,\n",
    "    'tight_coupling_trigger_tau_c_over_tau_k':0.001,\n",
    "}\n",
    "\n",
    "models['n=-2'] = {\n",
    "    'output': 'dTk',\n",
    "    'k_output_values': k_str,\n",
    "    'omega_cdm':0.12038,\n",
    "    'f_bidm':0.99,\n",
    "    'm_bidm':1,\n",
    "    'bidm_type':'powerlaw',\n",
    "    'n_bidm':-2,\n",
    "    'a_bidm':5e-4,\n",
    "    'A_bidm':2.3e-33,\n",
    "    'tight_coupling_trigger_tau_c_over_tau_h':0.008,\n",
    "    'tight_coupling_trigger_tau_c_over_tau_k':0.001,\n",
    "}\n"
   ]
  },
  {
   "cell_type": "code",
   "execution_count": 49,
   "metadata": {},
   "outputs": [],
   "source": [
    "cosmo = {}\n",
    "for M in models:\n",
    "    cosmo[M] = Class()\n",
    "    cosmo[M].set(models[M])\n",
    "    cosmo[M].compute()"
   ]
  },
  {
   "cell_type": "code",
   "execution_count": 50,
   "metadata": {},
   "outputs": [],
   "source": [
    "# Get and cleanup background\n",
    "bg = {}\n",
    "for M in models:\n",
    "    bg[M] = cosmo[M].get_background()\n",
    "    bg[M]['a'] = 1/(1 + bg[M]['z'])\n",
    "    indices = np.unique(bg[M]['a'], return_index=True)[1]\n",
    "    for key, val in bg[M].items():\n",
    "        bg[M][key] = val[indices]"
   ]
  },
  {
   "cell_type": "code",
   "execution_count": 51,
   "metadata": {},
   "outputs": [],
   "source": [
    "# Get and cleanup perturbations\n",
    "pts = {}\n",
    "for M in models:\n",
    "    pts[M] = cosmo[M].get_perturbations()['scalar']\n",
    "    for pt in pts[M]:\n",
    "        indices = np.unique(pt['a'], return_index=True)[1]\n",
    "        for key, val in pt.items():\n",
    "            pt[key] = val[indices]"
   ]
  },
  {
   "cell_type": "code",
   "execution_count": 52,
   "metadata": {},
   "outputs": [],
   "source": [
    "# Primordial curvature perturbation\n",
    "A_s = {}\n",
    "n_s = {}\n",
    "alpha_s = {}\n",
    "k_pivot = 0.05  # 1/Mpc\n",
    "for M in models:\n",
    "    derives_parameters = cosmo[M].get_current_derived_parameters(['A_s', 'n_s', 'alpha_s'])\n",
    "    A_s[M] = derives_parameters['A_s']\n",
    "    n_s[M] = derives_parameters['n_s']\n",
    "    alpha_s[M] = derives_parameters['alpha_s']\n",
    "def zeta(k,M):\n",
    "    val = np.pi*np.sqrt(2*A_s[M])*k**(-3/2)*(k/k_pivot)**((n_s[M] - 1)/2)*np.exp(alpha_s[M]/4*np.log(k/k_pivot)**2)\n",
    "    return val"
   ]
  },
  {
   "cell_type": "code",
   "execution_count": 53,
   "metadata": {},
   "outputs": [],
   "source": [
    "# Get power spectrum\n",
    "def get_Pk(a, M, species='b+cdm'):\n",
    "    P = []\n",
    "    for i, pt in enumerate(pts[M]):\n",
    "        a_pt = pt['a']\n",
    "        # Get rho at this a\n",
    "        rho = {}\n",
    "        for s in species.split('+'):\n",
    "            rho_interp = scipy.interpolate.interp1d(\n",
    "                np.log(bg[M]['a']), np.log(bg[M][f'(.)rho_{s}']), kind='cubic')\n",
    "            rho[s] = lambda a, rho_interp=rho_interp: np.exp(rho_interp(np.log(a)))\n",
    "        rho_a_pt = {}\n",
    "        for s in species.split('+'):\n",
    "            rho_a_pt[s] = rho[s](a_pt)\n",
    "        # Compute weighted delta\n",
    "        deltarho_combined = 0\n",
    "        rho_combined = 0\n",
    "        for s in species.split('+'):\n",
    "            deltarho_combined += rho_a_pt[s]*pt[f'delta_{s}']\n",
    "            rho_combined += rho_a_pt[s]\n",
    "        delta_combined = deltarho_combined/rho_combined\n",
    "        # Compute power spectra\n",
    "        P_a_pt = (delta_combined*zeta(k[i],M))**2\n",
    "        P_a = np.exp(scipy.interpolate.interp1d(np.log(a_pt), np.log(P_a_pt), kind='cubic')(np.log(a)))\n",
    "        P.append(P_a)\n",
    "    P = np.array(P)\n",
    "    return P"
   ]
  },
  {
   "cell_type": "code",
   "execution_count": 44,
   "metadata": {},
   "outputs": [
    {
     "data": {
      "text/plain": [
       "[<matplotlib.lines.Line2D at 0x7fa111604748>]"
      ]
     },
     "execution_count": 44,
     "metadata": {},
     "output_type": "execute_result"
    },
    {
     "data": {
      "image/png": "[encoded data removed]",
      "text/plain": [
       "<Figure size 432x288 with 1 Axes>"
      ]
     },
     "metadata": {},
     "output_type": "display_data"
    }
   ],
   "source": [
    "plt.semilogx(k, get_Pk(1,'n=-4', 'bidm+b+cdm'))"
   ]
  },
  {
   "cell_type": "code",
   "execution_count": 55,
   "metadata": {},
   "outputs": [
    {
     "data": {
      "text/plain": [
       "<matplotlib.legend.Legend at 0x7fa1114cd3c8>"
      ]
     },
     "execution_count": 55,
     "metadata": {},
     "output_type": "execute_result"
    },
    {
     "data": {
      "image/png": "[encoded data removed]",
      "text/plain": [
       "<Figure size 432x288 with 1 Axes>"
      ]
     },
     "metadata": {},
     "output_type": "display_data"
    }
   ],
   "source": [
    "for M in models:\n",
    "    if M != 'ref':\n",
    "        plt.semilogx(k,(get_Pk(1,M,'bidm+b+cdm')-get_Pk(1,'ref','b+cdm'))/get_Pk(1,M,'bidm+b+cdm'), label=M)\n",
    "        \n",
    "plt.legend()"
   ]
  },
  {
   "cell_type": "code",
   "execution_count": 57,
   "metadata": {},
   "outputs": [
    {
     "data": {
      "text/plain": [
       "[<matplotlib.lines.Line2D at 0x7fa110e699e8>]"
      ]
     },
     "execution_count": 57,
     "metadata": {},
     "output_type": "execute_result"
    },
    {
     "data": {
      "image/png": "[encoded data removed]",
      "text/plain": [
       "<Figure size 432x288 with 1 Axes>"
      ]
     },
     "metadata": {},
     "output_type": "display_data"
    }
   ],
   "source": [
    "plt.loglog(k, get_Pk(1,'n=-4', 'bidm+b+cdm'))\n",
    "plt.loglog(k, get_Pk(1,'ref', 'b+cdm'))"
   ]
  },
  {
   "cell_type": "code",
   "execution_count": null,
   "metadata": {},
   "outputs": [],
   "source": []
  }
 ],
 "metadata": {
  "kernelspec": {
   "display_name": "Python 3",
   "language": "python",
   "name": "python3"
  },
  "language_info": {
   "codemirror_mode": {
    "name": "ipython",
    "version": 3
   },
   "file_extension": ".py",
   "mimetype": "text/x-python",
   "name": "python",
   "nbconvert_exporter": "python",
   "pygments_lexer": "ipython3",
   "version": "3.6.5"
  }
 },
 "nbformat": 4,
 "nbformat_minor": 2
}
