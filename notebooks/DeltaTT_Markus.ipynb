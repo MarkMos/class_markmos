{
 "cells": [
  {
   "cell_type": "code",
   "execution_count": 1,
   "metadata": {},
   "outputs": [],
   "source": [
    "%matplotlib inline\n",
    "import matplotlib\n",
    "import matplotlib.pyplot as plt\n",
    "import numpy as np\n",
    "import csv"
   ]
  },
  {
   "cell_type": "code",
   "execution_count": null,
   "metadata": {},
   "outputs": [],
   "source": [
    "with open('../output/hyrec1MeV_cl.dat', 'rt') as f:\n",
    "  reader = csv.reader(f, delimiter=' ', skipinitialspace=True)\n",
    "\n",
    "  lineData = list()\n",
    "\n",
    "  cols = next(reader)\n",
    "  print(cols)\n",
    "\n",
    "  for col in cols:\n",
    "    # Create a list in lineData for each column of data.\n",
    "    lineData.append(list())\n",
    "\n",
    "\n",
    "  for line in reader:\n",
    "    for i in range(0, len(lineData)):\n",
    "      # Copy the data from the line into the correct columns.\n",
    "      lineData[i].append(line[i])\n",
    "\n",
    "  hyrec1MeV = dict()\n",
    "\n",
    "  for i in range(0, len(cols)):\n",
    "    # Create each key in the dict with the data in its column.\n",
    "    hyrec1MeV[cols[i]] = lineData[i]"
   ]
  },
  {
   "cell_type": "code",
   "execution_count": 2,
   "metadata": {},
   "outputs": [
    {
     "name": "stdout",
     "output_type": "stream",
     "text": [
      "['l', 'TT', 'EE', 'TE', 'BB', 'phiphi', 'TPhi', 'Ephi', '']\n"
     ]
    }
   ],
   "source": [
    "with open('../output/refhyrec_cl.dat', 'rt') as f:\n",
    "  reader = csv.reader(f, delimiter=' ', skipinitialspace=True)\n",
    "\n",
    "  lineData = list()\n",
    "\n",
    "  cols = next(reader)\n",
    "  print(cols)\n",
    "\n",
    "  for col in cols:\n",
    "    # Create a list in lineData for each column of data.\n",
    "    lineData.append(list())\n",
    "\n",
    "\n",
    "  for line in reader:\n",
    "    for i in range(0, len(lineData)):\n",
    "      # Copy the data from the line into the correct columns.\n",
    "      lineData[i].append(line[i])\n",
    "\n",
    "  refhyrec = dict()\n",
    "\n",
    "  for i in range(0, len(cols)):\n",
    "    # Create each key in the dict with the data in its column.\n",
    "    refhyrec[cols[i]] = lineData[i]"
   ]
  },
  {
   "cell_type": "code",
   "execution_count": 3,
   "metadata": {},
   "outputs": [],
   "source": [
    "#TT=np.asarray(list(map(float,hyrec1MeV['TT'])))\n",
    "TTref=np.asarray(list(map(float,refhyrec['TT'])))\n",
    "l =np.asarray(list(map(float,refhyrec['l'])))"
   ]
  },
  {
   "cell_type": "code",
   "execution_count": null,
   "metadata": {},
   "outputs": [],
   "source": [
    "plt.plot(l,(TT-TTref)/TTref)"
   ]
  },
  {
   "cell_type": "code",
   "execution_count": null,
   "metadata": {},
   "outputs": [],
   "source": [
    "with open('../output/recfast1MeV_cl.dat', 'rt') as f:\n",
    "  reader = csv.reader(f, delimiter=' ', skipinitialspace=True)\n",
    "\n",
    "  lineData = list()\n",
    "\n",
    "  cols = next(reader)\n",
    "  print(cols)\n",
    "\n",
    "  for col in cols:\n",
    "    # Create a list in lineData for each column of data.\n",
    "    lineData.append(list())\n",
    "\n",
    "\n",
    "  for line in reader:\n",
    "    for i in range(0, len(lineData)):\n",
    "      # Copy the data from the line into the correct columns.\n",
    "      lineData[i].append(line[i])\n",
    "\n",
    "  recfast1MeV = dict()\n",
    "\n",
    "  for i in range(0, len(cols)):\n",
    "    # Create each key in the dict with the data in its column.\n",
    "    recfast1MeV[cols[i]] = lineData[i]"
   ]
  },
  {
   "cell_type": "code",
   "execution_count": 5,
   "metadata": {},
   "outputs": [
    {
     "name": "stdout",
     "output_type": "stream",
     "text": [
      "['l', 'TT', 'EE', 'TE', 'BB', 'phiphi', 'TPhi', 'Ephi', '']\n"
     ]
    }
   ],
   "source": [
    "with open('../output/refrecfast_cl.dat', 'rt') as f:\n",
    "  reader = csv.reader(f, delimiter=' ', skipinitialspace=True)\n",
    "\n",
    "  lineData = list()\n",
    "\n",
    "  cols = next(reader)\n",
    "  print(cols)\n",
    "\n",
    "  for col in cols:\n",
    "    # Create a list in lineData for each column of data.\n",
    "    lineData.append(list())\n",
    "\n",
    "\n",
    "  for line in reader:\n",
    "    for i in range(0, len(lineData)):\n",
    "      # Copy the data from the line into the correct columns.\n",
    "      lineData[i].append(line[i])\n",
    "\n",
    "  refrecfast = dict()\n",
    "\n",
    "  for i in range(0, len(cols)):\n",
    "    # Create each key in the dict with the data in its column.\n",
    "    refrecfast[cols[i]] = lineData[i]"
   ]
  },
  {
   "cell_type": "code",
   "execution_count": 6,
   "metadata": {},
   "outputs": [],
   "source": [
    "#TTrf=np.asarray(list(map(float,recfast1MeV['TT'])))\n",
    "TTrfref=np.asarray(list(map(float,refrecfast['TT'])))\n",
    "lrf =np.asarray(list(map(float,refrecfast['l'])))"
   ]
  },
  {
   "cell_type": "code",
   "execution_count": null,
   "metadata": {},
   "outputs": [],
   "source": [
    "plt.plot(lrf,(TTrf-TTrfref)/TTrfref)"
   ]
  },
  {
   "cell_type": "code",
   "execution_count": null,
   "metadata": {},
   "outputs": [],
   "source": [
    "plt.plot(lrf,(TTrf-TTrfref)/TTrfref-(TT-TTref)/TTref)"
   ]
  },
  {
   "cell_type": "code",
   "execution_count": null,
   "metadata": {},
   "outputs": [],
   "source": [
    "plt.plot(lrf,TTrf)"
   ]
  },
  {
   "cell_type": "code",
   "execution_count": null,
   "metadata": {},
   "outputs": [],
   "source": [
    "plt.plot(l,TT)"
   ]
  },
  {
   "cell_type": "code",
   "execution_count": null,
   "metadata": {},
   "outputs": [],
   "source": [
    "with open('../output/recfast100MeVstronger_cl.dat', 'rt') as f:\n",
    "  reader = csv.reader(f, delimiter=' ', skipinitialspace=True)\n",
    "\n",
    "  lineData = list()\n",
    "\n",
    "  cols = next(reader)\n",
    "  print(cols)\n",
    "\n",
    "  for col in cols:\n",
    "    # Create a list in lineData for each column of data.\n",
    "    lineData.append(list())\n",
    "\n",
    "\n",
    "  for line in reader:\n",
    "    for i in range(0, len(lineData)):\n",
    "      # Copy the data from the line into the correct columns.\n",
    "      lineData[i].append(line[i])\n",
    "\n",
    "  recfast100MeVstrong = dict()\n",
    "\n",
    "  for i in range(0, len(cols)):\n",
    "    # Create each key in the dict with the data in its column.\n",
    "    recfast100MeVstrong[cols[i]] = lineData[i]"
   ]
  },
  {
   "cell_type": "code",
   "execution_count": null,
   "metadata": {},
   "outputs": [],
   "source": [
    "TTs=np.asarray(list(map(float,recfast100MeVstrong['TT'])))\n"
   ]
  },
  {
   "cell_type": "code",
   "execution_count": null,
   "metadata": {},
   "outputs": [],
   "source": [
    "plt.plot(lrf,(TTs-TTrfref)/TTrfref)"
   ]
  },
  {
   "cell_type": "code",
   "execution_count": 4,
   "metadata": {},
   "outputs": [
    {
     "name": "stdout",
     "output_type": "stream",
     "text": [
      "['l', 'TT', 'EE', 'TE', 'BB', 'phiphi', 'TPhi', 'Ephi', '']\n"
     ]
    }
   ],
   "source": [
    "with open('../output/hyrectest_cl.dat', 'rt') as f:\n",
    "  reader = csv.reader(f, delimiter=' ', skipinitialspace=True)\n",
    "\n",
    "  lineData = list()\n",
    "\n",
    "  cols = next(reader)\n",
    "  print(cols)\n",
    "\n",
    "  for col in cols:\n",
    "    # Create a list in lineData for each column of data.\n",
    "    lineData.append(list())\n",
    "\n",
    "\n",
    "  for line in reader:\n",
    "    for i in range(0, len(lineData)):\n",
    "      # Copy the data from the line into the correct columns.\n",
    "      lineData[i].append(line[i])\n",
    "\n",
    "  test = dict()\n",
    "\n",
    "  for i in range(0, len(cols)):\n",
    "    # Create each key in the dict with the data in its column.\n",
    "    test[cols[i]] = lineData[i]"
   ]
  },
  {
   "cell_type": "code",
   "execution_count": 5,
   "metadata": {},
   "outputs": [],
   "source": [
    "TTtest=np.asarray(list(map(float,test['TT'])))"
   ]
  },
  {
   "cell_type": "code",
   "execution_count": 6,
   "metadata": {},
   "outputs": [
    {
     "data": {
      "text/plain": [
       "[<matplotlib.lines.Line2D at 0x7f3aa5037198>]"
      ]
     },
     "execution_count": 6,
     "metadata": {},
     "output_type": "execute_result"
    },
    {
     "data": {
      "image/png": "[encoded data removed]",
      "text/plain": [
       "<Figure size 432x288 with 1 Axes>"
      ]
     },
     "metadata": {},
     "output_type": "display_data"
    }
   ],
   "source": [
    "plt.plot(l,(TTtest-TTref)/TTref)"
   ]
  },
  {
   "cell_type": "code",
   "execution_count": 10,
   "metadata": {},
   "outputs": [
    {
     "name": "stdout",
     "output_type": "stream",
     "text": [
      "['l', 'TT', 'EE', 'TE', 'BB', 'phiphi', 'TPhi', 'Ephi', '']\n"
     ]
    }
   ],
   "source": [
    "with open('../output/recfasttest_cl.dat', 'rt') as f:\n",
    "  reader = csv.reader(f, delimiter=' ', skipinitialspace=True)\n",
    "\n",
    "  lineData = list()\n",
    "\n",
    "  cols = next(reader)\n",
    "  print(cols)\n",
    "\n",
    "  for col in cols:\n",
    "    # Create a list in lineData for each column of data.\n",
    "    lineData.append(list())\n",
    "\n",
    "\n",
    "  for line in reader:\n",
    "    for i in range(0, len(lineData)):\n",
    "      # Copy the data from the line into the correct columns.\n",
    "      lineData[i].append(line[i])\n",
    "\n",
    "  testrf = dict()\n",
    "\n",
    "  for i in range(0, len(cols)):\n",
    "    # Create each key in the dict with the data in its column.\n",
    "    testrf[cols[i]] = lineData[i]"
   ]
  },
  {
   "cell_type": "code",
   "execution_count": 11,
   "metadata": {},
   "outputs": [],
   "source": [
    "TTtestrf=np.asarray(list(map(float,testrf['TT'])))"
   ]
  },
  {
   "cell_type": "code",
   "execution_count": 12,
   "metadata": {},
   "outputs": [
    {
     "data": {
      "text/plain": [
       "[<matplotlib.lines.Line2D at 0x7f0807f85eb8>]"
      ]
     },
     "execution_count": 12,
     "metadata": {},
     "output_type": "execute_result"
    },
    {
     "data": {
      "image/png": "[encoded data removed]",
      "text/plain": [
       "<Figure size 432x288 with 1 Axes>"
      ]
     },
     "metadata": {},
     "output_type": "display_data"
    }
   ],
   "source": [
    "plt.plot(l,(TTtestrf-TTrfref)/TTrfref)"
   ]
  },
  {
   "cell_type": "code",
   "execution_count": null,
   "metadata": {},
   "outputs": [],
   "source": []
  }
 ],
 "metadata": {
  "kernelspec": {
   "display_name": "Python 3",
   "language": "python",
   "name": "python3"
  },
  "language_info": {
   "codemirror_mode": {
    "name": "ipython",
    "version": 3
   },
   "file_extension": ".py",
   "mimetype": "text/x-python",
   "name": "python",
   "nbconvert_exporter": "python",
   "pygments_lexer": "ipython3",
   "version": "3.6.5"
  }
 },
 "nbformat": 4,
 "nbformat_minor": 2
}
